{
  "nbformat": 4,
  "nbformat_minor": 0,
  "metadata": {
    "colab": {
      "provenance": [],
      "include_colab_link": true
    },
    "kernelspec": {
      "display_name": "Python 3",
      "language": "python",
      "name": "python3"
    }
  },
  "cells": [
    {
      "cell_type": "markdown",
      "metadata": {
        "id": "view-in-github",
        "colab_type": "text"
      },
      "source": [
        "<a href=\"https://colab.research.google.com/github/narinthakan/pythonProject1/blob/master/sklearn_classification_v2.ipynb\" target=\"_parent\"><img src=\"https://colab.research.google.com/assets/colab-badge.svg\" alt=\"Open In Colab\"/></a>"
      ]
    },
    {
      "cell_type": "markdown",
      "metadata": {
        "id": "oW3hpNpyLyGE"
      },
      "source": [
        "# Classification\n",
        "\n",
        "เป็นกลุ่มของหลักการเรียนรู้ของเครื่องที่เอาไว้ใช้ตอบคำถามว่าเป็น A หรือ B\n",
        "\n",
        "* Is it A or B?  two-class classification\n",
        "\n",
        "* Is it A or B or C or ... ? multi-class classification\n",
        "\n",
        "เช่น\n",
        "\n",
        "* email ที่มีข้อความประเภทนี้เป็น spam **ใช่** หรือ **ไม่ใช่**\n",
        "\n",
        "* ลูกค้าที่เงินเติมซื้อเกมมากกว่า 2000 บาทต่อสัปดาห์มีอายุอยู่ในช่วง **5-24 ปี** หรือ **25-44 ปี** หรือ **45-64 ปี** หรือ **65-130 ปี**\n",
        "\n",
        "หลักการเรียนรู้ของเครื่องที่ใช้สร้าง model เพื่อตอบคำถามสำหรับ scikit-learn ที่จะนำเสนอในบทนี้ คือ\n",
        "Decision Tree"
      ]
    },
    {
      "cell_type": "code",
      "metadata": {
        "id": "lq1JJZ4RLyGF"
      },
      "source": [],
      "execution_count": null,
      "outputs": []
    },
    {
      "cell_type": "markdown",
      "metadata": {
        "id": "L-0HziWpDNax"
      },
      "source": [
        "## Decision Trees"
      ]
    },
    {
      "cell_type": "markdown",
      "metadata": {
        "id": "iNpjYVZxDNa2"
      },
      "source": [
        "สร้าง model โดยการเลือกตัดสินใจเป็นลำดับชั้น โดยเลือก feature หรือ column ที่มีความสำคัญที่สุดก่อน แล้วค่อยสร้างลำดับชั้นของการตัดสินใจไปเรื่อย จนกระทั่งตัดสินใจได้ว่า ข้อมูลนั้นควรเป็นประเภทใด\n",
        "\n",
        "โครงสร้างการตัดสินใจนี้เมื่อนำมาแสดงเป็นลำดับชั้นจะเห็นเป็นต้นไม้ จึงเรียกว่า Decision Tree\n"
      ]
    },
    {
      "cell_type": "markdown",
      "metadata": {
        "id": "Rn5fq2HELyIr"
      },
      "source": [
        "ตัวอย่างข้อมูลการเข้าเรียนของนักศึกษาวิทยาการคอมพิวเตอร์คนหนึ่ง เก็บข้อมูลทั้งหมด 14 วัน ดังตาราง\n",
        "\n",
        "| สภาพอากาศ      | อุณหภูมิ         | ความชื้น  | ลม    | เข้าเรียน |\n",
        "| :------------: | :-----------: | :-----: | :---: | :---: |\n",
        "| ท้องฟ้าแจ่มใส     | 29            | 85      | ไม่มี   | เข้า   |\n",
        "| ท้องฟ้าแจ่มใส     | 26            | 90      | มี     | ไม่เข้า |\n",
        "| มืดคลึ้ม          | 28            | 78      | ไม่มี   | เข้า   |\n",
        "| ฝนตก           | 21            | 96      | ไม่มี   | เข้า   |\n",
        "| ฝนตก           | 20            | 80      | ไม่มี   | เข้า   |\n",
        "| ฝนตก           | 18            | 70      | มี     | ไม่เข้า |\n",
        "| มืดคลึ้ม          | 17            | 65      | มี     | เข้า   |\n",
        "| ท้องฟ้าแจ่มใส     | 22            | 95      | ไม่มี   | ไม่เข้า |\n",
        "| ท้องฟ้าแจ่มใส     | 20            | 70      | ไม่มี   | เข้า   |\n",
        "| ฝนตก           | 23            | 80      | ไม่มี   | เข้า   |\n",
        "| ท้องฟ้าแจ่มใส     | 23            | 70      | มี     | เข้า   |\n",
        "| มืดคลึ้ม          | 22            | 90      | มี     | เข้า   |\n",
        "| มืดคลึ้ม          | 27            | 75      | ไม่มี   | เข้า   |\n",
        "| ฝนตก           | 21            | 80      | มี     | ไม่เข้า |\n",
        "\n",
        "ref: ข้อมูล csv\n",
        "\n",
        "* http://gg.gg/csubu-habit\n",
        "* http://projectcs.sci.ubu.ac.th/downloads/datasets/raw/master/csubu-habit.csv\n",
        "\n",
        "คำศัพท์:\n",
        "\n",
        "* สภาพอากาศ - Overlook\n",
        "* อุณหภูมิ - Temperature\n",
        "* ความชื้น - Humidity\n",
        "* ลม - Wind\n",
        "* เข้าเรียน - Present"
      ]
    },
    {
      "cell_type": "code",
      "metadata": {
        "id": "YT2VFL7ULyIt"
      },
      "source": [
        "import pandas as pd"
      ],
      "execution_count": null,
      "outputs": []
    },
    {
      "cell_type": "code",
      "metadata": {
        "id": "ezHD_-40LyIy",
        "colab": {
          "base_uri": "https://localhost:8080/",
          "height": 206
        },
        "outputId": "2cb46684-0e30-4ce9-8874-b8043dcf8dc7"
      },
      "source": [
        "df = pd.read_csv(\"http://gg.gg/csubu-habit\")\n",
        "df.head()"
      ],
      "execution_count": null,
      "outputs": [
        {
          "output_type": "execute_result",
          "data": {
            "text/html": [
              "\n",
              "  <div id=\"df-4ecce9bc-5c64-48d6-8c72-ff888853d8f3\">\n",
              "    <div class=\"colab-df-container\">\n",
              "      <div>\n",
              "<style scoped>\n",
              "    .dataframe tbody tr th:only-of-type {\n",
              "        vertical-align: middle;\n",
              "    }\n",
              "\n",
              "    .dataframe tbody tr th {\n",
              "        vertical-align: top;\n",
              "    }\n",
              "\n",
              "    .dataframe thead th {\n",
              "        text-align: right;\n",
              "    }\n",
              "</style>\n",
              "<table border=\"1\" class=\"dataframe\">\n",
              "  <thead>\n",
              "    <tr style=\"text-align: right;\">\n",
              "      <th></th>\n",
              "      <th>Overlook</th>\n",
              "      <th>Temperature</th>\n",
              "      <th>Humidity</th>\n",
              "      <th>Wind</th>\n",
              "      <th>Present</th>\n",
              "    </tr>\n",
              "  </thead>\n",
              "  <tbody>\n",
              "    <tr>\n",
              "      <th>0</th>\n",
              "      <td>ท้องฟ้าแจ่มใส</td>\n",
              "      <td>29</td>\n",
              "      <td>85</td>\n",
              "      <td>ไม่มี</td>\n",
              "      <td>เข้า</td>\n",
              "    </tr>\n",
              "    <tr>\n",
              "      <th>1</th>\n",
              "      <td>ท้องฟ้าแจ่มใส</td>\n",
              "      <td>26</td>\n",
              "      <td>90</td>\n",
              "      <td>มี</td>\n",
              "      <td>ไม่เข้า</td>\n",
              "    </tr>\n",
              "    <tr>\n",
              "      <th>2</th>\n",
              "      <td>มืดคลึ้ม</td>\n",
              "      <td>28</td>\n",
              "      <td>78</td>\n",
              "      <td>ไม่มี</td>\n",
              "      <td>เข้า</td>\n",
              "    </tr>\n",
              "    <tr>\n",
              "      <th>3</th>\n",
              "      <td>ฝนตก</td>\n",
              "      <td>21</td>\n",
              "      <td>96</td>\n",
              "      <td>ไม่มี</td>\n",
              "      <td>เข้า</td>\n",
              "    </tr>\n",
              "    <tr>\n",
              "      <th>4</th>\n",
              "      <td>ฝนตก</td>\n",
              "      <td>20</td>\n",
              "      <td>80</td>\n",
              "      <td>ไม่มี</td>\n",
              "      <td>เข้า</td>\n",
              "    </tr>\n",
              "  </tbody>\n",
              "</table>\n",
              "</div>\n",
              "      <button class=\"colab-df-convert\" onclick=\"convertToInteractive('df-4ecce9bc-5c64-48d6-8c72-ff888853d8f3')\"\n",
              "              title=\"Convert this dataframe to an interactive table.\"\n",
              "              style=\"display:none;\">\n",
              "        \n",
              "  <svg xmlns=\"http://www.w3.org/2000/svg\" height=\"24px\"viewBox=\"0 0 24 24\"\n",
              "       width=\"24px\">\n",
              "    <path d=\"M0 0h24v24H0V0z\" fill=\"none\"/>\n",
              "    <path d=\"M18.56 5.44l.94 2.06.94-2.06 2.06-.94-2.06-.94-.94-2.06-.94 2.06-2.06.94zm-11 1L8.5 8.5l.94-2.06 2.06-.94-2.06-.94L8.5 2.5l-.94 2.06-2.06.94zm10 10l.94 2.06.94-2.06 2.06-.94-2.06-.94-.94-2.06-.94 2.06-2.06.94z\"/><path d=\"M17.41 7.96l-1.37-1.37c-.4-.4-.92-.59-1.43-.59-.52 0-1.04.2-1.43.59L10.3 9.45l-7.72 7.72c-.78.78-.78 2.05 0 2.83L4 21.41c.39.39.9.59 1.41.59.51 0 1.02-.2 1.41-.59l7.78-7.78 2.81-2.81c.8-.78.8-2.07 0-2.86zM5.41 20L4 18.59l7.72-7.72 1.47 1.35L5.41 20z\"/>\n",
              "  </svg>\n",
              "      </button>\n",
              "      \n",
              "  <style>\n",
              "    .colab-df-container {\n",
              "      display:flex;\n",
              "      flex-wrap:wrap;\n",
              "      gap: 12px;\n",
              "    }\n",
              "\n",
              "    .colab-df-convert {\n",
              "      background-color: #E8F0FE;\n",
              "      border: none;\n",
              "      border-radius: 50%;\n",
              "      cursor: pointer;\n",
              "      display: none;\n",
              "      fill: #1967D2;\n",
              "      height: 32px;\n",
              "      padding: 0 0 0 0;\n",
              "      width: 32px;\n",
              "    }\n",
              "\n",
              "    .colab-df-convert:hover {\n",
              "      background-color: #E2EBFA;\n",
              "      box-shadow: 0px 1px 2px rgba(60, 64, 67, 0.3), 0px 1px 3px 1px rgba(60, 64, 67, 0.15);\n",
              "      fill: #174EA6;\n",
              "    }\n",
              "\n",
              "    [theme=dark] .colab-df-convert {\n",
              "      background-color: #3B4455;\n",
              "      fill: #D2E3FC;\n",
              "    }\n",
              "\n",
              "    [theme=dark] .colab-df-convert:hover {\n",
              "      background-color: #434B5C;\n",
              "      box-shadow: 0px 1px 3px 1px rgba(0, 0, 0, 0.15);\n",
              "      filter: drop-shadow(0px 1px 2px rgba(0, 0, 0, 0.3));\n",
              "      fill: #FFFFFF;\n",
              "    }\n",
              "  </style>\n",
              "\n",
              "      <script>\n",
              "        const buttonEl =\n",
              "          document.querySelector('#df-4ecce9bc-5c64-48d6-8c72-ff888853d8f3 button.colab-df-convert');\n",
              "        buttonEl.style.display =\n",
              "          google.colab.kernel.accessAllowed ? 'block' : 'none';\n",
              "\n",
              "        async function convertToInteractive(key) {\n",
              "          const element = document.querySelector('#df-4ecce9bc-5c64-48d6-8c72-ff888853d8f3');\n",
              "          const dataTable =\n",
              "            await google.colab.kernel.invokeFunction('convertToInteractive',\n",
              "                                                     [key], {});\n",
              "          if (!dataTable) return;\n",
              "\n",
              "          const docLinkHtml = 'Like what you see? Visit the ' +\n",
              "            '<a target=\"_blank\" href=https://colab.research.google.com/notebooks/data_table.ipynb>data table notebook</a>'\n",
              "            + ' to learn more about interactive tables.';\n",
              "          element.innerHTML = '';\n",
              "          dataTable['output_type'] = 'display_data';\n",
              "          await google.colab.output.renderOutput(dataTable, element);\n",
              "          const docLink = document.createElement('div');\n",
              "          docLink.innerHTML = docLinkHtml;\n",
              "          element.appendChild(docLink);\n",
              "        }\n",
              "      </script>\n",
              "    </div>\n",
              "  </div>\n",
              "  "
            ],
            "text/plain": [
              "        Overlook  Temperature  Humidity   Wind  Present\n",
              "0  ท้องฟ้าแจ่มใส           29        85  ไม่มี     เข้า\n",
              "1  ท้องฟ้าแจ่มใส           26        90     มี  ไม่เข้า\n",
              "2       มืดคลึ้ม           28        78  ไม่มี     เข้า\n",
              "3           ฝนตก           21        96  ไม่มี     เข้า\n",
              "4           ฝนตก           20        80  ไม่มี     เข้า"
            ]
          },
          "metadata": {},
          "execution_count": 2
        }
      ]
    },
    {
      "cell_type": "code",
      "metadata": {
        "id": "mmwUf4iFLyI0",
        "colab": {
          "base_uri": "https://localhost:8080/",
          "height": 488
        },
        "outputId": "caf04beb-3982-48d4-d1bd-db2657719f41"
      },
      "source": [
        "df.sort_values(by=['Present'])"
      ],
      "execution_count": null,
      "outputs": [
        {
          "output_type": "execute_result",
          "data": {
            "text/html": [
              "\n",
              "  <div id=\"df-a6ade331-f166-4570-85bc-ced79c7ae438\">\n",
              "    <div class=\"colab-df-container\">\n",
              "      <div>\n",
              "<style scoped>\n",
              "    .dataframe tbody tr th:only-of-type {\n",
              "        vertical-align: middle;\n",
              "    }\n",
              "\n",
              "    .dataframe tbody tr th {\n",
              "        vertical-align: top;\n",
              "    }\n",
              "\n",
              "    .dataframe thead th {\n",
              "        text-align: right;\n",
              "    }\n",
              "</style>\n",
              "<table border=\"1\" class=\"dataframe\">\n",
              "  <thead>\n",
              "    <tr style=\"text-align: right;\">\n",
              "      <th></th>\n",
              "      <th>Overlook</th>\n",
              "      <th>Temperature</th>\n",
              "      <th>Humidity</th>\n",
              "      <th>Wind</th>\n",
              "      <th>Present</th>\n",
              "    </tr>\n",
              "  </thead>\n",
              "  <tbody>\n",
              "    <tr>\n",
              "      <th>0</th>\n",
              "      <td>ท้องฟ้าแจ่มใส</td>\n",
              "      <td>29</td>\n",
              "      <td>85</td>\n",
              "      <td>ไม่มี</td>\n",
              "      <td>เข้า</td>\n",
              "    </tr>\n",
              "    <tr>\n",
              "      <th>2</th>\n",
              "      <td>มืดคลึ้ม</td>\n",
              "      <td>28</td>\n",
              "      <td>78</td>\n",
              "      <td>ไม่มี</td>\n",
              "      <td>เข้า</td>\n",
              "    </tr>\n",
              "    <tr>\n",
              "      <th>3</th>\n",
              "      <td>ฝนตก</td>\n",
              "      <td>21</td>\n",
              "      <td>96</td>\n",
              "      <td>ไม่มี</td>\n",
              "      <td>เข้า</td>\n",
              "    </tr>\n",
              "    <tr>\n",
              "      <th>4</th>\n",
              "      <td>ฝนตก</td>\n",
              "      <td>20</td>\n",
              "      <td>80</td>\n",
              "      <td>ไม่มี</td>\n",
              "      <td>เข้า</td>\n",
              "    </tr>\n",
              "    <tr>\n",
              "      <th>6</th>\n",
              "      <td>มืดคลึ้ม</td>\n",
              "      <td>17</td>\n",
              "      <td>65</td>\n",
              "      <td>มี</td>\n",
              "      <td>เข้า</td>\n",
              "    </tr>\n",
              "    <tr>\n",
              "      <th>8</th>\n",
              "      <td>ท้องฟ้าแจ่มใส</td>\n",
              "      <td>20</td>\n",
              "      <td>70</td>\n",
              "      <td>ไม่มี</td>\n",
              "      <td>เข้า</td>\n",
              "    </tr>\n",
              "    <tr>\n",
              "      <th>9</th>\n",
              "      <td>ฝนตก</td>\n",
              "      <td>23</td>\n",
              "      <td>80</td>\n",
              "      <td>ไม่มี</td>\n",
              "      <td>เข้า</td>\n",
              "    </tr>\n",
              "    <tr>\n",
              "      <th>10</th>\n",
              "      <td>ท้องฟ้าแจ่มใส</td>\n",
              "      <td>23</td>\n",
              "      <td>70</td>\n",
              "      <td>มี</td>\n",
              "      <td>เข้า</td>\n",
              "    </tr>\n",
              "    <tr>\n",
              "      <th>11</th>\n",
              "      <td>มืดคลึ้ม</td>\n",
              "      <td>22</td>\n",
              "      <td>90</td>\n",
              "      <td>มี</td>\n",
              "      <td>เข้า</td>\n",
              "    </tr>\n",
              "    <tr>\n",
              "      <th>12</th>\n",
              "      <td>มืดคลึ้ม</td>\n",
              "      <td>27</td>\n",
              "      <td>75</td>\n",
              "      <td>ไม่มี</td>\n",
              "      <td>เข้า</td>\n",
              "    </tr>\n",
              "    <tr>\n",
              "      <th>1</th>\n",
              "      <td>ท้องฟ้าแจ่มใส</td>\n",
              "      <td>26</td>\n",
              "      <td>90</td>\n",
              "      <td>มี</td>\n",
              "      <td>ไม่เข้า</td>\n",
              "    </tr>\n",
              "    <tr>\n",
              "      <th>5</th>\n",
              "      <td>ฝนตก</td>\n",
              "      <td>18</td>\n",
              "      <td>70</td>\n",
              "      <td>มี</td>\n",
              "      <td>ไม่เข้า</td>\n",
              "    </tr>\n",
              "    <tr>\n",
              "      <th>7</th>\n",
              "      <td>ท้องฟ้าแจ่มใส</td>\n",
              "      <td>22</td>\n",
              "      <td>95</td>\n",
              "      <td>ไม่มี</td>\n",
              "      <td>ไม่เข้า</td>\n",
              "    </tr>\n",
              "    <tr>\n",
              "      <th>13</th>\n",
              "      <td>ฝนตก</td>\n",
              "      <td>21</td>\n",
              "      <td>80</td>\n",
              "      <td>มี</td>\n",
              "      <td>ไม่เข้า</td>\n",
              "    </tr>\n",
              "  </tbody>\n",
              "</table>\n",
              "</div>\n",
              "      <button class=\"colab-df-convert\" onclick=\"convertToInteractive('df-a6ade331-f166-4570-85bc-ced79c7ae438')\"\n",
              "              title=\"Convert this dataframe to an interactive table.\"\n",
              "              style=\"display:none;\">\n",
              "        \n",
              "  <svg xmlns=\"http://www.w3.org/2000/svg\" height=\"24px\"viewBox=\"0 0 24 24\"\n",
              "       width=\"24px\">\n",
              "    <path d=\"M0 0h24v24H0V0z\" fill=\"none\"/>\n",
              "    <path d=\"M18.56 5.44l.94 2.06.94-2.06 2.06-.94-2.06-.94-.94-2.06-.94 2.06-2.06.94zm-11 1L8.5 8.5l.94-2.06 2.06-.94-2.06-.94L8.5 2.5l-.94 2.06-2.06.94zm10 10l.94 2.06.94-2.06 2.06-.94-2.06-.94-.94-2.06-.94 2.06-2.06.94z\"/><path d=\"M17.41 7.96l-1.37-1.37c-.4-.4-.92-.59-1.43-.59-.52 0-1.04.2-1.43.59L10.3 9.45l-7.72 7.72c-.78.78-.78 2.05 0 2.83L4 21.41c.39.39.9.59 1.41.59.51 0 1.02-.2 1.41-.59l7.78-7.78 2.81-2.81c.8-.78.8-2.07 0-2.86zM5.41 20L4 18.59l7.72-7.72 1.47 1.35L5.41 20z\"/>\n",
              "  </svg>\n",
              "      </button>\n",
              "      \n",
              "  <style>\n",
              "    .colab-df-container {\n",
              "      display:flex;\n",
              "      flex-wrap:wrap;\n",
              "      gap: 12px;\n",
              "    }\n",
              "\n",
              "    .colab-df-convert {\n",
              "      background-color: #E8F0FE;\n",
              "      border: none;\n",
              "      border-radius: 50%;\n",
              "      cursor: pointer;\n",
              "      display: none;\n",
              "      fill: #1967D2;\n",
              "      height: 32px;\n",
              "      padding: 0 0 0 0;\n",
              "      width: 32px;\n",
              "    }\n",
              "\n",
              "    .colab-df-convert:hover {\n",
              "      background-color: #E2EBFA;\n",
              "      box-shadow: 0px 1px 2px rgba(60, 64, 67, 0.3), 0px 1px 3px 1px rgba(60, 64, 67, 0.15);\n",
              "      fill: #174EA6;\n",
              "    }\n",
              "\n",
              "    [theme=dark] .colab-df-convert {\n",
              "      background-color: #3B4455;\n",
              "      fill: #D2E3FC;\n",
              "    }\n",
              "\n",
              "    [theme=dark] .colab-df-convert:hover {\n",
              "      background-color: #434B5C;\n",
              "      box-shadow: 0px 1px 3px 1px rgba(0, 0, 0, 0.15);\n",
              "      filter: drop-shadow(0px 1px 2px rgba(0, 0, 0, 0.3));\n",
              "      fill: #FFFFFF;\n",
              "    }\n",
              "  </style>\n",
              "\n",
              "      <script>\n",
              "        const buttonEl =\n",
              "          document.querySelector('#df-a6ade331-f166-4570-85bc-ced79c7ae438 button.colab-df-convert');\n",
              "        buttonEl.style.display =\n",
              "          google.colab.kernel.accessAllowed ? 'block' : 'none';\n",
              "\n",
              "        async function convertToInteractive(key) {\n",
              "          const element = document.querySelector('#df-a6ade331-f166-4570-85bc-ced79c7ae438');\n",
              "          const dataTable =\n",
              "            await google.colab.kernel.invokeFunction('convertToInteractive',\n",
              "                                                     [key], {});\n",
              "          if (!dataTable) return;\n",
              "\n",
              "          const docLinkHtml = 'Like what you see? Visit the ' +\n",
              "            '<a target=\"_blank\" href=https://colab.research.google.com/notebooks/data_table.ipynb>data table notebook</a>'\n",
              "            + ' to learn more about interactive tables.';\n",
              "          element.innerHTML = '';\n",
              "          dataTable['output_type'] = 'display_data';\n",
              "          await google.colab.output.renderOutput(dataTable, element);\n",
              "          const docLink = document.createElement('div');\n",
              "          docLink.innerHTML = docLinkHtml;\n",
              "          element.appendChild(docLink);\n",
              "        }\n",
              "      </script>\n",
              "    </div>\n",
              "  </div>\n",
              "  "
            ],
            "text/plain": [
              "         Overlook  Temperature  Humidity   Wind  Present\n",
              "0   ท้องฟ้าแจ่มใส           29        85  ไม่มี     เข้า\n",
              "2        มืดคลึ้ม           28        78  ไม่มี     เข้า\n",
              "3            ฝนตก           21        96  ไม่มี     เข้า\n",
              "4            ฝนตก           20        80  ไม่มี     เข้า\n",
              "6        มืดคลึ้ม           17        65     มี     เข้า\n",
              "8   ท้องฟ้าแจ่มใส           20        70  ไม่มี     เข้า\n",
              "9            ฝนตก           23        80  ไม่มี     เข้า\n",
              "10  ท้องฟ้าแจ่มใส           23        70     มี     เข้า\n",
              "11       มืดคลึ้ม           22        90     มี     เข้า\n",
              "12       มืดคลึ้ม           27        75  ไม่มี     เข้า\n",
              "1   ท้องฟ้าแจ่มใส           26        90     มี  ไม่เข้า\n",
              "5            ฝนตก           18        70     มี  ไม่เข้า\n",
              "7   ท้องฟ้าแจ่มใส           22        95  ไม่มี  ไม่เข้า\n",
              "13           ฝนตก           21        80     มี  ไม่เข้า"
            ]
          },
          "metadata": {},
          "execution_count": 3
        }
      ]
    },
    {
      "cell_type": "markdown",
      "metadata": {
        "id": "_TT3QJkcLyI2"
      },
      "source": [
        "**หมายเหตุ:** ถ้า _มืดคลื้ม_ แล้ว _เข้าเรียน_ 100% ไม่ว่า อุณหภูมิ ความชื้น หรือ ลม จะเป็นเช่นไร"
      ]
    },
    {
      "cell_type": "code",
      "metadata": {
        "scrolled": false,
        "id": "KNWXITxZLyI2",
        "colab": {
          "base_uri": "https://localhost:8080/",
          "height": 172
        },
        "outputId": "16bbd9e6-67d4-4b99-ddc4-eaeaf025edf2"
      },
      "source": [
        "df[ df.Overlook == 'มืดคลึ้ม' ]"
      ],
      "execution_count": null,
      "outputs": [
        {
          "output_type": "execute_result",
          "data": {
            "text/html": [
              "<div>\n",
              "<style scoped>\n",
              "    .dataframe tbody tr th:only-of-type {\n",
              "        vertical-align: middle;\n",
              "    }\n",
              "\n",
              "    .dataframe tbody tr th {\n",
              "        vertical-align: top;\n",
              "    }\n",
              "\n",
              "    .dataframe thead th {\n",
              "        text-align: right;\n",
              "    }\n",
              "</style>\n",
              "<table border=\"1\" class=\"dataframe\">\n",
              "  <thead>\n",
              "    <tr style=\"text-align: right;\">\n",
              "      <th></th>\n",
              "      <th>Overlook</th>\n",
              "      <th>Temperature</th>\n",
              "      <th>Humidity</th>\n",
              "      <th>Wind</th>\n",
              "      <th>Present</th>\n",
              "    </tr>\n",
              "  </thead>\n",
              "  <tbody>\n",
              "    <tr>\n",
              "      <th>2</th>\n",
              "      <td>มืดคลึ้ม</td>\n",
              "      <td>28</td>\n",
              "      <td>78</td>\n",
              "      <td>ไม่มี</td>\n",
              "      <td>เข้า</td>\n",
              "    </tr>\n",
              "    <tr>\n",
              "      <th>6</th>\n",
              "      <td>มืดคลึ้ม</td>\n",
              "      <td>17</td>\n",
              "      <td>65</td>\n",
              "      <td>มี</td>\n",
              "      <td>เข้า</td>\n",
              "    </tr>\n",
              "    <tr>\n",
              "      <th>11</th>\n",
              "      <td>มืดคลึ้ม</td>\n",
              "      <td>22</td>\n",
              "      <td>90</td>\n",
              "      <td>มี</td>\n",
              "      <td>เข้า</td>\n",
              "    </tr>\n",
              "    <tr>\n",
              "      <th>12</th>\n",
              "      <td>มืดคลึ้ม</td>\n",
              "      <td>27</td>\n",
              "      <td>75</td>\n",
              "      <td>ไม่มี</td>\n",
              "      <td>เข้า</td>\n",
              "    </tr>\n",
              "  </tbody>\n",
              "</table>\n",
              "</div>"
            ],
            "text/plain": [
              "    Overlook  Temperature  Humidity   Wind Present\n",
              "2   มืดคลึ้ม           28        78  ไม่มี    เข้า\n",
              "6   มืดคลึ้ม           17        65     มี    เข้า\n",
              "11  มืดคลึ้ม           22        90     มี    เข้า\n",
              "12  มืดคลึ้ม           27        75  ไม่มี    เข้า"
            ]
          },
          "metadata": {},
          "execution_count": 13
        }
      ]
    },
    {
      "cell_type": "code",
      "metadata": {
        "id": "ymLSyDzvLyI5",
        "colab": {
          "base_uri": "https://localhost:8080/",
          "height": 362
        },
        "outputId": "83ebbeec-e629-490a-adf5-f7ccc22b1af8"
      },
      "source": [
        "df2 = df[ df.Overlook != 'มืดคลึ้ม' ].sort_values(by='Present')\n",
        "df2"
      ],
      "execution_count": null,
      "outputs": [
        {
          "output_type": "execute_result",
          "data": {
            "text/html": [
              "<div>\n",
              "<style scoped>\n",
              "    .dataframe tbody tr th:only-of-type {\n",
              "        vertical-align: middle;\n",
              "    }\n",
              "\n",
              "    .dataframe tbody tr th {\n",
              "        vertical-align: top;\n",
              "    }\n",
              "\n",
              "    .dataframe thead th {\n",
              "        text-align: right;\n",
              "    }\n",
              "</style>\n",
              "<table border=\"1\" class=\"dataframe\">\n",
              "  <thead>\n",
              "    <tr style=\"text-align: right;\">\n",
              "      <th></th>\n",
              "      <th>Overlook</th>\n",
              "      <th>Temperature</th>\n",
              "      <th>Humidity</th>\n",
              "      <th>Wind</th>\n",
              "      <th>Present</th>\n",
              "    </tr>\n",
              "  </thead>\n",
              "  <tbody>\n",
              "    <tr>\n",
              "      <th>0</th>\n",
              "      <td>ท้องฟ้าแจ่มใส</td>\n",
              "      <td>29</td>\n",
              "      <td>85</td>\n",
              "      <td>ไม่มี</td>\n",
              "      <td>เข้า</td>\n",
              "    </tr>\n",
              "    <tr>\n",
              "      <th>3</th>\n",
              "      <td>ฝนตก</td>\n",
              "      <td>21</td>\n",
              "      <td>96</td>\n",
              "      <td>ไม่มี</td>\n",
              "      <td>เข้า</td>\n",
              "    </tr>\n",
              "    <tr>\n",
              "      <th>4</th>\n",
              "      <td>ฝนตก</td>\n",
              "      <td>20</td>\n",
              "      <td>80</td>\n",
              "      <td>ไม่มี</td>\n",
              "      <td>เข้า</td>\n",
              "    </tr>\n",
              "    <tr>\n",
              "      <th>8</th>\n",
              "      <td>ท้องฟ้าแจ่มใส</td>\n",
              "      <td>20</td>\n",
              "      <td>70</td>\n",
              "      <td>ไม่มี</td>\n",
              "      <td>เข้า</td>\n",
              "    </tr>\n",
              "    <tr>\n",
              "      <th>9</th>\n",
              "      <td>ฝนตก</td>\n",
              "      <td>23</td>\n",
              "      <td>80</td>\n",
              "      <td>ไม่มี</td>\n",
              "      <td>เข้า</td>\n",
              "    </tr>\n",
              "    <tr>\n",
              "      <th>10</th>\n",
              "      <td>ท้องฟ้าแจ่มใส</td>\n",
              "      <td>23</td>\n",
              "      <td>70</td>\n",
              "      <td>มี</td>\n",
              "      <td>เข้า</td>\n",
              "    </tr>\n",
              "    <tr>\n",
              "      <th>1</th>\n",
              "      <td>ท้องฟ้าแจ่มใส</td>\n",
              "      <td>26</td>\n",
              "      <td>90</td>\n",
              "      <td>มี</td>\n",
              "      <td>ไม่เข้า</td>\n",
              "    </tr>\n",
              "    <tr>\n",
              "      <th>5</th>\n",
              "      <td>ฝนตก</td>\n",
              "      <td>18</td>\n",
              "      <td>70</td>\n",
              "      <td>มี</td>\n",
              "      <td>ไม่เข้า</td>\n",
              "    </tr>\n",
              "    <tr>\n",
              "      <th>7</th>\n",
              "      <td>ท้องฟ้าแจ่มใส</td>\n",
              "      <td>22</td>\n",
              "      <td>95</td>\n",
              "      <td>ไม่มี</td>\n",
              "      <td>ไม่เข้า</td>\n",
              "    </tr>\n",
              "    <tr>\n",
              "      <th>13</th>\n",
              "      <td>ฝนตก</td>\n",
              "      <td>21</td>\n",
              "      <td>80</td>\n",
              "      <td>มี</td>\n",
              "      <td>ไม่เข้า</td>\n",
              "    </tr>\n",
              "  </tbody>\n",
              "</table>\n",
              "</div>"
            ],
            "text/plain": [
              "         Overlook  Temperature  Humidity   Wind  Present\n",
              "0   ท้องฟ้าแจ่มใส           29        85  ไม่มี     เข้า\n",
              "3            ฝนตก           21        96  ไม่มี     เข้า\n",
              "4            ฝนตก           20        80  ไม่มี     เข้า\n",
              "8   ท้องฟ้าแจ่มใส           20        70  ไม่มี     เข้า\n",
              "9            ฝนตก           23        80  ไม่มี     เข้า\n",
              "10  ท้องฟ้าแจ่มใส           23        70     มี     เข้า\n",
              "1   ท้องฟ้าแจ่มใส           26        90     มี  ไม่เข้า\n",
              "5            ฝนตก           18        70     มี  ไม่เข้า\n",
              "7   ท้องฟ้าแจ่มใส           22        95  ไม่มี  ไม่เข้า\n",
              "13           ฝนตก           21        80     มี  ไม่เข้า"
            ]
          },
          "metadata": {},
          "execution_count": 14
        }
      ]
    },
    {
      "cell_type": "markdown",
      "metadata": {
        "id": "yKYEkoWfLyI8"
      },
      "source": [
        "ข้อมูล column ไหน? บอกว่านักศึกษาคนนี้จะเข้าเรียนได้แม่นมากกว่า"
      ]
    },
    {
      "cell_type": "code",
      "metadata": {
        "id": "ATs2KqUmLyI9",
        "colab": {
          "base_uri": "https://localhost:8080/",
          "height": 237
        },
        "outputId": "e89d6463-e4b4-4696-c996-e326de8c00e2"
      },
      "source": [
        "df2[ df2.Wind == 'ไม่มี' ]"
      ],
      "execution_count": null,
      "outputs": [
        {
          "output_type": "execute_result",
          "data": {
            "text/html": [
              "<div>\n",
              "<style scoped>\n",
              "    .dataframe tbody tr th:only-of-type {\n",
              "        vertical-align: middle;\n",
              "    }\n",
              "\n",
              "    .dataframe tbody tr th {\n",
              "        vertical-align: top;\n",
              "    }\n",
              "\n",
              "    .dataframe thead th {\n",
              "        text-align: right;\n",
              "    }\n",
              "</style>\n",
              "<table border=\"1\" class=\"dataframe\">\n",
              "  <thead>\n",
              "    <tr style=\"text-align: right;\">\n",
              "      <th></th>\n",
              "      <th>Overlook</th>\n",
              "      <th>Temperature</th>\n",
              "      <th>Humidity</th>\n",
              "      <th>Wind</th>\n",
              "      <th>Present</th>\n",
              "    </tr>\n",
              "  </thead>\n",
              "  <tbody>\n",
              "    <tr>\n",
              "      <th>0</th>\n",
              "      <td>ท้องฟ้าแจ่มใส</td>\n",
              "      <td>29</td>\n",
              "      <td>85</td>\n",
              "      <td>ไม่มี</td>\n",
              "      <td>เข้า</td>\n",
              "    </tr>\n",
              "    <tr>\n",
              "      <th>3</th>\n",
              "      <td>ฝนตก</td>\n",
              "      <td>21</td>\n",
              "      <td>96</td>\n",
              "      <td>ไม่มี</td>\n",
              "      <td>เข้า</td>\n",
              "    </tr>\n",
              "    <tr>\n",
              "      <th>4</th>\n",
              "      <td>ฝนตก</td>\n",
              "      <td>20</td>\n",
              "      <td>80</td>\n",
              "      <td>ไม่มี</td>\n",
              "      <td>เข้า</td>\n",
              "    </tr>\n",
              "    <tr>\n",
              "      <th>8</th>\n",
              "      <td>ท้องฟ้าแจ่มใส</td>\n",
              "      <td>20</td>\n",
              "      <td>70</td>\n",
              "      <td>ไม่มี</td>\n",
              "      <td>เข้า</td>\n",
              "    </tr>\n",
              "    <tr>\n",
              "      <th>9</th>\n",
              "      <td>ฝนตก</td>\n",
              "      <td>23</td>\n",
              "      <td>80</td>\n",
              "      <td>ไม่มี</td>\n",
              "      <td>เข้า</td>\n",
              "    </tr>\n",
              "    <tr>\n",
              "      <th>7</th>\n",
              "      <td>ท้องฟ้าแจ่มใส</td>\n",
              "      <td>22</td>\n",
              "      <td>95</td>\n",
              "      <td>ไม่มี</td>\n",
              "      <td>ไม่เข้า</td>\n",
              "    </tr>\n",
              "  </tbody>\n",
              "</table>\n",
              "</div>"
            ],
            "text/plain": [
              "        Overlook  Temperature  Humidity   Wind  Present\n",
              "0  ท้องฟ้าแจ่มใส           29        85  ไม่มี     เข้า\n",
              "3           ฝนตก           21        96  ไม่มี     เข้า\n",
              "4           ฝนตก           20        80  ไม่มี     เข้า\n",
              "8  ท้องฟ้าแจ่มใส           20        70  ไม่มี     เข้า\n",
              "9           ฝนตก           23        80  ไม่มี     เข้า\n",
              "7  ท้องฟ้าแจ่มใส           22        95  ไม่มี  ไม่เข้า"
            ]
          },
          "metadata": {},
          "execution_count": 15
        }
      ]
    },
    {
      "cell_type": "code",
      "metadata": {
        "id": "3gbEJ0CSLyJA"
      },
      "source": [
        "data = df.copy()\n",
        "\n",
        "data['Overlook'] = data.Overlook.astype('category')\n",
        "data['overlook'] = data.Overlook.cat.codes\n",
        "data['อากาศ'] = data.Overlook.cat.codes\n",
        "\n",
        "data['Wind'] = data.Wind.astype('category')\n",
        "data['wind'] = data.Wind.cat.codes\n",
        "data['ลม'] = data.Wind.cat.codes\n",
        "\n",
        "data['อุณหภูมิ'] = data.Temperature\n",
        "data['ความชื้น'] = data.Humidity\n",
        "\n",
        "data['Present'] = data.Present.astype('category')"
      ],
      "execution_count": null,
      "outputs": []
    },
    {
      "cell_type": "code",
      "metadata": {
        "id": "_ybi6bLEUiv1",
        "colab": {
          "base_uri": "https://localhost:8080/",
          "height": 487
        },
        "outputId": "60ea3386-2048-421f-e131-731f70729f6b"
      },
      "source": [
        "data.columns\n",
        "data.sort_values(by='Present')"
      ],
      "execution_count": null,
      "outputs": [
        {
          "output_type": "execute_result",
          "data": {
            "text/html": [
              "<div>\n",
              "<style scoped>\n",
              "    .dataframe tbody tr th:only-of-type {\n",
              "        vertical-align: middle;\n",
              "    }\n",
              "\n",
              "    .dataframe tbody tr th {\n",
              "        vertical-align: top;\n",
              "    }\n",
              "\n",
              "    .dataframe thead th {\n",
              "        text-align: right;\n",
              "    }\n",
              "</style>\n",
              "<table border=\"1\" class=\"dataframe\">\n",
              "  <thead>\n",
              "    <tr style=\"text-align: right;\">\n",
              "      <th></th>\n",
              "      <th>Overlook</th>\n",
              "      <th>Temperature</th>\n",
              "      <th>Humidity</th>\n",
              "      <th>Wind</th>\n",
              "      <th>Present</th>\n",
              "      <th>overlook</th>\n",
              "      <th>อากาศ</th>\n",
              "      <th>wind</th>\n",
              "      <th>ลม</th>\n",
              "      <th>อุณหภูมิ</th>\n",
              "      <th>ความชื้น</th>\n",
              "    </tr>\n",
              "  </thead>\n",
              "  <tbody>\n",
              "    <tr>\n",
              "      <th>0</th>\n",
              "      <td>ท้องฟ้าแจ่มใส</td>\n",
              "      <td>29</td>\n",
              "      <td>85</td>\n",
              "      <td>ไม่มี</td>\n",
              "      <td>เข้า</td>\n",
              "      <td>0</td>\n",
              "      <td>0</td>\n",
              "      <td>1</td>\n",
              "      <td>1</td>\n",
              "      <td>29</td>\n",
              "      <td>85</td>\n",
              "    </tr>\n",
              "    <tr>\n",
              "      <th>2</th>\n",
              "      <td>มืดคลึ้ม</td>\n",
              "      <td>28</td>\n",
              "      <td>78</td>\n",
              "      <td>ไม่มี</td>\n",
              "      <td>เข้า</td>\n",
              "      <td>2</td>\n",
              "      <td>2</td>\n",
              "      <td>1</td>\n",
              "      <td>1</td>\n",
              "      <td>28</td>\n",
              "      <td>78</td>\n",
              "    </tr>\n",
              "    <tr>\n",
              "      <th>3</th>\n",
              "      <td>ฝนตก</td>\n",
              "      <td>21</td>\n",
              "      <td>96</td>\n",
              "      <td>ไม่มี</td>\n",
              "      <td>เข้า</td>\n",
              "      <td>1</td>\n",
              "      <td>1</td>\n",
              "      <td>1</td>\n",
              "      <td>1</td>\n",
              "      <td>21</td>\n",
              "      <td>96</td>\n",
              "    </tr>\n",
              "    <tr>\n",
              "      <th>4</th>\n",
              "      <td>ฝนตก</td>\n",
              "      <td>20</td>\n",
              "      <td>80</td>\n",
              "      <td>ไม่มี</td>\n",
              "      <td>เข้า</td>\n",
              "      <td>1</td>\n",
              "      <td>1</td>\n",
              "      <td>1</td>\n",
              "      <td>1</td>\n",
              "      <td>20</td>\n",
              "      <td>80</td>\n",
              "    </tr>\n",
              "    <tr>\n",
              "      <th>6</th>\n",
              "      <td>มืดคลึ้ม</td>\n",
              "      <td>17</td>\n",
              "      <td>65</td>\n",
              "      <td>มี</td>\n",
              "      <td>เข้า</td>\n",
              "      <td>2</td>\n",
              "      <td>2</td>\n",
              "      <td>0</td>\n",
              "      <td>0</td>\n",
              "      <td>17</td>\n",
              "      <td>65</td>\n",
              "    </tr>\n",
              "    <tr>\n",
              "      <th>8</th>\n",
              "      <td>ท้องฟ้าแจ่มใส</td>\n",
              "      <td>20</td>\n",
              "      <td>70</td>\n",
              "      <td>ไม่มี</td>\n",
              "      <td>เข้า</td>\n",
              "      <td>0</td>\n",
              "      <td>0</td>\n",
              "      <td>1</td>\n",
              "      <td>1</td>\n",
              "      <td>20</td>\n",
              "      <td>70</td>\n",
              "    </tr>\n",
              "    <tr>\n",
              "      <th>9</th>\n",
              "      <td>ฝนตก</td>\n",
              "      <td>23</td>\n",
              "      <td>80</td>\n",
              "      <td>ไม่มี</td>\n",
              "      <td>เข้า</td>\n",
              "      <td>1</td>\n",
              "      <td>1</td>\n",
              "      <td>1</td>\n",
              "      <td>1</td>\n",
              "      <td>23</td>\n",
              "      <td>80</td>\n",
              "    </tr>\n",
              "    <tr>\n",
              "      <th>10</th>\n",
              "      <td>ท้องฟ้าแจ่มใส</td>\n",
              "      <td>23</td>\n",
              "      <td>70</td>\n",
              "      <td>มี</td>\n",
              "      <td>เข้า</td>\n",
              "      <td>0</td>\n",
              "      <td>0</td>\n",
              "      <td>0</td>\n",
              "      <td>0</td>\n",
              "      <td>23</td>\n",
              "      <td>70</td>\n",
              "    </tr>\n",
              "    <tr>\n",
              "      <th>11</th>\n",
              "      <td>มืดคลึ้ม</td>\n",
              "      <td>22</td>\n",
              "      <td>90</td>\n",
              "      <td>มี</td>\n",
              "      <td>เข้า</td>\n",
              "      <td>2</td>\n",
              "      <td>2</td>\n",
              "      <td>0</td>\n",
              "      <td>0</td>\n",
              "      <td>22</td>\n",
              "      <td>90</td>\n",
              "    </tr>\n",
              "    <tr>\n",
              "      <th>12</th>\n",
              "      <td>มืดคลึ้ม</td>\n",
              "      <td>27</td>\n",
              "      <td>75</td>\n",
              "      <td>ไม่มี</td>\n",
              "      <td>เข้า</td>\n",
              "      <td>2</td>\n",
              "      <td>2</td>\n",
              "      <td>1</td>\n",
              "      <td>1</td>\n",
              "      <td>27</td>\n",
              "      <td>75</td>\n",
              "    </tr>\n",
              "    <tr>\n",
              "      <th>1</th>\n",
              "      <td>ท้องฟ้าแจ่มใส</td>\n",
              "      <td>26</td>\n",
              "      <td>90</td>\n",
              "      <td>มี</td>\n",
              "      <td>ไม่เข้า</td>\n",
              "      <td>0</td>\n",
              "      <td>0</td>\n",
              "      <td>0</td>\n",
              "      <td>0</td>\n",
              "      <td>26</td>\n",
              "      <td>90</td>\n",
              "    </tr>\n",
              "    <tr>\n",
              "      <th>5</th>\n",
              "      <td>ฝนตก</td>\n",
              "      <td>18</td>\n",
              "      <td>70</td>\n",
              "      <td>มี</td>\n",
              "      <td>ไม่เข้า</td>\n",
              "      <td>1</td>\n",
              "      <td>1</td>\n",
              "      <td>0</td>\n",
              "      <td>0</td>\n",
              "      <td>18</td>\n",
              "      <td>70</td>\n",
              "    </tr>\n",
              "    <tr>\n",
              "      <th>7</th>\n",
              "      <td>ท้องฟ้าแจ่มใส</td>\n",
              "      <td>22</td>\n",
              "      <td>95</td>\n",
              "      <td>ไม่มี</td>\n",
              "      <td>ไม่เข้า</td>\n",
              "      <td>0</td>\n",
              "      <td>0</td>\n",
              "      <td>1</td>\n",
              "      <td>1</td>\n",
              "      <td>22</td>\n",
              "      <td>95</td>\n",
              "    </tr>\n",
              "    <tr>\n",
              "      <th>13</th>\n",
              "      <td>ฝนตก</td>\n",
              "      <td>21</td>\n",
              "      <td>80</td>\n",
              "      <td>มี</td>\n",
              "      <td>ไม่เข้า</td>\n",
              "      <td>1</td>\n",
              "      <td>1</td>\n",
              "      <td>0</td>\n",
              "      <td>0</td>\n",
              "      <td>21</td>\n",
              "      <td>80</td>\n",
              "    </tr>\n",
              "  </tbody>\n",
              "</table>\n",
              "</div>"
            ],
            "text/plain": [
              "         Overlook  Temperature  Humidity   Wind  ... wind  ลม  อุณหภูมิ  ความชื้น\n",
              "0   ท้องฟ้าแจ่มใส           29        85  ไม่มี  ...    1   1        29        85\n",
              "2        มืดคลึ้ม           28        78  ไม่มี  ...    1   1        28        78\n",
              "3            ฝนตก           21        96  ไม่มี  ...    1   1        21        96\n",
              "4            ฝนตก           20        80  ไม่มี  ...    1   1        20        80\n",
              "6        มืดคลึ้ม           17        65     มี  ...    0   0        17        65\n",
              "8   ท้องฟ้าแจ่มใส           20        70  ไม่มี  ...    1   1        20        70\n",
              "9            ฝนตก           23        80  ไม่มี  ...    1   1        23        80\n",
              "10  ท้องฟ้าแจ่มใส           23        70     มี  ...    0   0        23        70\n",
              "11       มืดคลึ้ม           22        90     มี  ...    0   0        22        90\n",
              "12       มืดคลึ้ม           27        75  ไม่มี  ...    1   1        27        75\n",
              "1   ท้องฟ้าแจ่มใส           26        90     มี  ...    0   0        26        90\n",
              "5            ฝนตก           18        70     มี  ...    0   0        18        70\n",
              "7   ท้องฟ้าแจ่มใส           22        95  ไม่มี  ...    1   1        22        95\n",
              "13           ฝนตก           21        80     มี  ...    0   0        21        80\n",
              "\n",
              "[14 rows x 11 columns]"
            ]
          },
          "metadata": {},
          "execution_count": 17
        }
      ]
    },
    {
      "cell_type": "code",
      "metadata": {
        "id": "54E2Ml7cLyJB"
      },
      "source": [
        "# เอา data มาแยกเป็น feature matrix (X) กับ target vector (y)\n",
        "columns = ['อากาศ', 'อุณหภูมิ', 'ความชื้น', 'ลม']\n",
        "X = data[ columns ].values\n",
        "y = data.Present.cat.codes"
      ],
      "execution_count": null,
      "outputs": []
    },
    {
      "cell_type": "code",
      "metadata": {
        "id": "xxZaCguDLyJD",
        "colab": {
          "base_uri": "https://localhost:8080/"
        },
        "outputId": "fc753f67-830e-4ad9-ed83-c8edd141e06f"
      },
      "source": [
        "y"
      ],
      "execution_count": null,
      "outputs": [
        {
          "output_type": "execute_result",
          "data": {
            "text/plain": [
              "0     0\n",
              "1     1\n",
              "2     0\n",
              "3     0\n",
              "4     0\n",
              "5     1\n",
              "6     0\n",
              "7     1\n",
              "8     0\n",
              "9     0\n",
              "10    0\n",
              "11    0\n",
              "12    0\n",
              "13    1\n",
              "dtype: int8"
            ]
          },
          "metadata": {},
          "execution_count": 19
        }
      ]
    },
    {
      "cell_type": "markdown",
      "metadata": {
        "id": "YeDko-xGLyJF"
      },
      "source": [
        "### DecisionTree Classifier"
      ]
    },
    {
      "cell_type": "code",
      "metadata": {
        "id": "nz2O92QRDNbn",
        "colab": {
          "base_uri": "https://localhost:8080/"
        },
        "outputId": "9f76b494-b8b9-49da-e09b-323a0c9d2bac"
      },
      "source": [
        "from sklearn.tree import DecisionTreeClassifier\n",
        "tree = DecisionTreeClassifier(criterion = \"entropy\")\n",
        "tree.fit(X, y)"
      ],
      "execution_count": null,
      "outputs": [
        {
          "output_type": "execute_result",
          "data": {
            "text/plain": [
              "DecisionTreeClassifier(ccp_alpha=0.0, class_weight=None, criterion='entropy',\n",
              "                       max_depth=None, max_features=None, max_leaf_nodes=None,\n",
              "                       min_impurity_decrease=0.0, min_impurity_split=None,\n",
              "                       min_samples_leaf=1, min_samples_split=2,\n",
              "                       min_weight_fraction_leaf=0.0, presort='deprecated',\n",
              "                       random_state=None, splitter='best')"
            ]
          },
          "metadata": {},
          "execution_count": 35
        }
      ]
    },
    {
      "cell_type": "markdown",
      "metadata": {
        "id": "cxG6_QE-DNbz"
      },
      "source": [
        "ผลลัพธ์ของ Tree\n",
        "\n",
        "Don't forget to `pip install graphviz`"
      ]
    },
    {
      "cell_type": "code",
      "metadata": {
        "id": "1liy-cc3LyJH",
        "colab": {
          "base_uri": "https://localhost:8080/",
          "height": 656
        },
        "outputId": "cb83110d-c1b6-4e19-a6ad-ca21df90be8d"
      },
      "source": [
        "import graphviz\n",
        "import sklearn\n",
        "dot_data = sklearn.tree.export_graphviz(tree, out_file=None, feature_names=columns)\n",
        "graphviz.Source(dot_data)\n",
        "#  อากาศ  อุณ  ชื้น   ลม\n",
        "# [ 2,    120, 95,  1]"
      ],
      "execution_count": null,
      "outputs": [
        {
          "output_type": "execute_result",
          "data": {
            "text/plain": [
              "<graphviz.files.Source at 0x7f3f76d2dcd0>"
            ],
            "image/svg+xml": "<?xml version=\"1.0\" encoding=\"UTF-8\" standalone=\"no\"?>\n<!DOCTYPE svg PUBLIC \"-//W3C//DTD SVG 1.1//EN\"\n \"http://www.w3.org/Graphics/SVG/1.1/DTD/svg11.dtd\">\n<!-- Generated by graphviz version 2.40.1 (20161225.0304)\n -->\n<!-- Title: Tree Pages: 1 -->\n<svg width=\"645pt\" height=\"477pt\"\n viewBox=\"0.00 0.00 645.00 477.00\" xmlns=\"http://www.w3.org/2000/svg\" xmlns:xlink=\"http://www.w3.org/1999/xlink\">\n<g id=\"graph0\" class=\"graph\" transform=\"scale(1 1) rotate(0) translate(4 473)\">\n<title>Tree</title>\n<polygon fill=\"#ffffff\" stroke=\"transparent\" points=\"-4,4 -4,-473 641,-473 641,4 -4,4\"/>\n<!-- 0 -->\n<g id=\"node1\" class=\"node\">\n<title>0</title>\n<polygon fill=\"none\" stroke=\"#000000\" points=\"456,-469 325,-469 325,-401 456,-401 456,-469\"/>\n<text text-anchor=\"middle\" x=\"390.5\" y=\"-453.8\" font-family=\"Times,serif\" font-size=\"14.00\" fill=\"#000000\">อากาศ &lt;= 1.5</text>\n<text text-anchor=\"middle\" x=\"390.5\" y=\"-438.8\" font-family=\"Times,serif\" font-size=\"14.00\" fill=\"#000000\">entropy = 0.863</text>\n<text text-anchor=\"middle\" x=\"390.5\" y=\"-423.8\" font-family=\"Times,serif\" font-size=\"14.00\" fill=\"#000000\">samples = 14</text>\n<text text-anchor=\"middle\" x=\"390.5\" y=\"-408.8\" font-family=\"Times,serif\" font-size=\"14.00\" fill=\"#000000\">value = [10, 4]</text>\n</g>\n<!-- 1 -->\n<g id=\"node2\" class=\"node\">\n<title>1</title>\n<polygon fill=\"none\" stroke=\"#000000\" points=\"385.5,-365 275.5,-365 275.5,-297 385.5,-297 385.5,-365\"/>\n<text text-anchor=\"middle\" x=\"330.5\" y=\"-349.8\" font-family=\"Times,serif\" font-size=\"14.00\" fill=\"#000000\">ลม &lt;= 0.5</text>\n<text text-anchor=\"middle\" x=\"330.5\" y=\"-334.8\" font-family=\"Times,serif\" font-size=\"14.00\" fill=\"#000000\">entropy = 0.971</text>\n<text text-anchor=\"middle\" x=\"330.5\" y=\"-319.8\" font-family=\"Times,serif\" font-size=\"14.00\" fill=\"#000000\">samples = 10</text>\n<text text-anchor=\"middle\" x=\"330.5\" y=\"-304.8\" font-family=\"Times,serif\" font-size=\"14.00\" fill=\"#000000\">value = [6, 4]</text>\n</g>\n<!-- 0&#45;&gt;1 -->\n<g id=\"edge1\" class=\"edge\">\n<title>0&#45;&gt;1</title>\n<path fill=\"none\" stroke=\"#000000\" d=\"M370.8538,-400.9465C365.881,-392.3271 360.4757,-382.9579 355.2852,-373.9611\"/>\n<polygon fill=\"#000000\" stroke=\"#000000\" points=\"358.2193,-372.0428 350.1904,-365.13 352.156,-375.5409 358.2193,-372.0428\"/>\n<text text-anchor=\"middle\" x=\"343.7122\" y=\"-385.5761\" font-family=\"Times,serif\" font-size=\"14.00\" fill=\"#000000\">True</text>\n</g>\n<!-- 12 -->\n<g id=\"node13\" class=\"node\">\n<title>12</title>\n<polygon fill=\"none\" stroke=\"#000000\" points=\"499,-357.5 404,-357.5 404,-304.5 499,-304.5 499,-357.5\"/>\n<text text-anchor=\"middle\" x=\"451.5\" y=\"-342.3\" font-family=\"Times,serif\" font-size=\"14.00\" fill=\"#000000\">entropy = 0.0</text>\n<text text-anchor=\"middle\" x=\"451.5\" y=\"-327.3\" font-family=\"Times,serif\" font-size=\"14.00\" fill=\"#000000\">samples = 4</text>\n<text text-anchor=\"middle\" x=\"451.5\" y=\"-312.3\" font-family=\"Times,serif\" font-size=\"14.00\" fill=\"#000000\">value = [4, 0]</text>\n</g>\n<!-- 0&#45;&gt;12 -->\n<g id=\"edge12\" class=\"edge\">\n<title>0&#45;&gt;12</title>\n<path fill=\"none\" stroke=\"#000000\" d=\"M410.4737,-400.9465C416.999,-389.8215 424.2569,-377.4473 430.8322,-366.237\"/>\n<polygon fill=\"#000000\" stroke=\"#000000\" points=\"433.8916,-367.9387 435.932,-357.5422 427.8536,-364.3971 433.8916,-367.9387\"/>\n<text text-anchor=\"middle\" x=\"442.2366\" y=\"-378.0342\" font-family=\"Times,serif\" font-size=\"14.00\" fill=\"#000000\">False</text>\n</g>\n<!-- 2 -->\n<g id=\"node3\" class=\"node\">\n<title>2</title>\n<polygon fill=\"none\" stroke=\"#000000\" points=\"309,-261 178,-261 178,-193 309,-193 309,-261\"/>\n<text text-anchor=\"middle\" x=\"243.5\" y=\"-245.8\" font-family=\"Times,serif\" font-size=\"14.00\" fill=\"#000000\">อากาศ &lt;= 0.5</text>\n<text text-anchor=\"middle\" x=\"243.5\" y=\"-230.8\" font-family=\"Times,serif\" font-size=\"14.00\" fill=\"#000000\">entropy = 0.811</text>\n<text text-anchor=\"middle\" x=\"243.5\" y=\"-215.8\" font-family=\"Times,serif\" font-size=\"14.00\" fill=\"#000000\">samples = 4</text>\n<text text-anchor=\"middle\" x=\"243.5\" y=\"-200.8\" font-family=\"Times,serif\" font-size=\"14.00\" fill=\"#000000\">value = [1, 3]</text>\n</g>\n<!-- 1&#45;&gt;2 -->\n<g id=\"edge2\" class=\"edge\">\n<title>1&#45;&gt;2</title>\n<path fill=\"none\" stroke=\"#000000\" d=\"M302.0129,-296.9465C294.5021,-287.968 286.3105,-278.1758 278.4995,-268.8385\"/>\n<polygon fill=\"#000000\" stroke=\"#000000\" points=\"281.152,-266.5544 272.0511,-261.13 275.7829,-271.0459 281.152,-266.5544\"/>\n</g>\n<!-- 7 -->\n<g id=\"node8\" class=\"node\">\n<title>7</title>\n<polygon fill=\"none\" stroke=\"#000000\" points=\"508,-261 327,-261 327,-193 508,-193 508,-261\"/>\n<text text-anchor=\"middle\" x=\"417.5\" y=\"-245.8\" font-family=\"Times,serif\" font-size=\"14.00\" fill=\"#000000\">ความชื้น &lt;= 90.0</text>\n<text text-anchor=\"middle\" x=\"417.5\" y=\"-230.8\" font-family=\"Times,serif\" font-size=\"14.00\" fill=\"#000000\">entropy = 0.65</text>\n<text text-anchor=\"middle\" x=\"417.5\" y=\"-215.8\" font-family=\"Times,serif\" font-size=\"14.00\" fill=\"#000000\">samples = 6</text>\n<text text-anchor=\"middle\" x=\"417.5\" y=\"-200.8\" font-family=\"Times,serif\" font-size=\"14.00\" fill=\"#000000\">value = [5, 1]</text>\n</g>\n<!-- 1&#45;&gt;7 -->\n<g id=\"edge7\" class=\"edge\">\n<title>1&#45;&gt;7</title>\n<path fill=\"none\" stroke=\"#000000\" d=\"M358.9871,-296.9465C366.4979,-287.968 374.6895,-278.1758 382.5005,-268.8385\"/>\n<polygon fill=\"#000000\" stroke=\"#000000\" points=\"385.2171,-271.0459 388.9489,-261.13 379.848,-266.5544 385.2171,-271.0459\"/>\n</g>\n<!-- 3 -->\n<g id=\"node4\" class=\"node\">\n<title>3</title>\n<polygon fill=\"none\" stroke=\"#000000\" points=\"194,-157 13,-157 13,-89 194,-89 194,-157\"/>\n<text text-anchor=\"middle\" x=\"103.5\" y=\"-141.8\" font-family=\"Times,serif\" font-size=\"14.00\" fill=\"#000000\">อุณหภูมิ &lt;= 24.5</text>\n<text text-anchor=\"middle\" x=\"103.5\" y=\"-126.8\" font-family=\"Times,serif\" font-size=\"14.00\" fill=\"#000000\">entropy = 1.0</text>\n<text text-anchor=\"middle\" x=\"103.5\" y=\"-111.8\" font-family=\"Times,serif\" font-size=\"14.00\" fill=\"#000000\">samples = 2</text>\n<text text-anchor=\"middle\" x=\"103.5\" y=\"-96.8\" font-family=\"Times,serif\" font-size=\"14.00\" fill=\"#000000\">value = [1, 1]</text>\n</g>\n<!-- 2&#45;&gt;3 -->\n<g id=\"edge3\" class=\"edge\">\n<title>2&#45;&gt;3</title>\n<path fill=\"none\" stroke=\"#000000\" d=\"M197.6588,-192.9465C184.8471,-183.4293 170.8048,-172.9978 157.5656,-163.163\"/>\n<polygon fill=\"#000000\" stroke=\"#000000\" points=\"159.5588,-160.2837 149.4442,-157.13 155.3845,-165.9029 159.5588,-160.2837\"/>\n</g>\n<!-- 6 -->\n<g id=\"node7\" class=\"node\">\n<title>6</title>\n<polygon fill=\"none\" stroke=\"#000000\" points=\"307,-149.5 212,-149.5 212,-96.5 307,-96.5 307,-149.5\"/>\n<text text-anchor=\"middle\" x=\"259.5\" y=\"-134.3\" font-family=\"Times,serif\" font-size=\"14.00\" fill=\"#000000\">entropy = 0.0</text>\n<text text-anchor=\"middle\" x=\"259.5\" y=\"-119.3\" font-family=\"Times,serif\" font-size=\"14.00\" fill=\"#000000\">samples = 2</text>\n<text text-anchor=\"middle\" x=\"259.5\" y=\"-104.3\" font-family=\"Times,serif\" font-size=\"14.00\" fill=\"#000000\">value = [0, 2]</text>\n</g>\n<!-- 2&#45;&gt;6 -->\n<g id=\"edge6\" class=\"edge\">\n<title>2&#45;&gt;6</title>\n<path fill=\"none\" stroke=\"#000000\" d=\"M248.739,-192.9465C250.3828,-182.2621 252.2038,-170.4254 253.8732,-159.5742\"/>\n<polygon fill=\"#000000\" stroke=\"#000000\" points=\"257.3552,-159.9581 255.4166,-149.5422 250.4366,-158.8937 257.3552,-159.9581\"/>\n</g>\n<!-- 4 -->\n<g id=\"node5\" class=\"node\">\n<title>4</title>\n<polygon fill=\"none\" stroke=\"#000000\" points=\"95,-53 0,-53 0,0 95,0 95,-53\"/>\n<text text-anchor=\"middle\" x=\"47.5\" y=\"-37.8\" font-family=\"Times,serif\" font-size=\"14.00\" fill=\"#000000\">entropy = 0.0</text>\n<text text-anchor=\"middle\" x=\"47.5\" y=\"-22.8\" font-family=\"Times,serif\" font-size=\"14.00\" fill=\"#000000\">samples = 1</text>\n<text text-anchor=\"middle\" x=\"47.5\" y=\"-7.8\" font-family=\"Times,serif\" font-size=\"14.00\" fill=\"#000000\">value = [1, 0]</text>\n</g>\n<!-- 3&#45;&gt;4 -->\n<g id=\"edge4\" class=\"edge\">\n<title>3&#45;&gt;4</title>\n<path fill=\"none\" stroke=\"#000000\" d=\"M83.7565,-88.9777C78.7083,-80.2786 73.2669,-70.9018 68.1734,-62.1247\"/>\n<polygon fill=\"#000000\" stroke=\"#000000\" points=\"71.0689,-60.1409 63.0224,-53.2485 65.0145,-63.6544 71.0689,-60.1409\"/>\n</g>\n<!-- 5 -->\n<g id=\"node6\" class=\"node\">\n<title>5</title>\n<polygon fill=\"none\" stroke=\"#000000\" points=\"208,-53 113,-53 113,0 208,0 208,-53\"/>\n<text text-anchor=\"middle\" x=\"160.5\" y=\"-37.8\" font-family=\"Times,serif\" font-size=\"14.00\" fill=\"#000000\">entropy = 0.0</text>\n<text text-anchor=\"middle\" x=\"160.5\" y=\"-22.8\" font-family=\"Times,serif\" font-size=\"14.00\" fill=\"#000000\">samples = 1</text>\n<text text-anchor=\"middle\" x=\"160.5\" y=\"-7.8\" font-family=\"Times,serif\" font-size=\"14.00\" fill=\"#000000\">value = [0, 1]</text>\n</g>\n<!-- 3&#45;&gt;5 -->\n<g id=\"edge5\" class=\"edge\">\n<title>3&#45;&gt;5</title>\n<path fill=\"none\" stroke=\"#000000\" d=\"M123.5961,-88.9777C128.7344,-80.2786 134.273,-70.9018 139.4575,-62.1247\"/>\n<polygon fill=\"#000000\" stroke=\"#000000\" points=\"142.6281,-63.6387 144.7004,-53.2485 136.601,-60.0786 142.6281,-63.6387\"/>\n</g>\n<!-- 8 -->\n<g id=\"node9\" class=\"node\">\n<title>8</title>\n<polygon fill=\"none\" stroke=\"#000000\" points=\"450,-149.5 355,-149.5 355,-96.5 450,-96.5 450,-149.5\"/>\n<text text-anchor=\"middle\" x=\"402.5\" y=\"-134.3\" font-family=\"Times,serif\" font-size=\"14.00\" fill=\"#000000\">entropy = 0.0</text>\n<text text-anchor=\"middle\" x=\"402.5\" y=\"-119.3\" font-family=\"Times,serif\" font-size=\"14.00\" fill=\"#000000\">samples = 4</text>\n<text text-anchor=\"middle\" x=\"402.5\" y=\"-104.3\" font-family=\"Times,serif\" font-size=\"14.00\" fill=\"#000000\">value = [4, 0]</text>\n</g>\n<!-- 7&#45;&gt;8 -->\n<g id=\"edge8\" class=\"edge\">\n<title>7&#45;&gt;8</title>\n<path fill=\"none\" stroke=\"#000000\" d=\"M412.5884,-192.9465C411.0474,-182.2621 409.3402,-170.4254 407.7751,-159.5742\"/>\n<polygon fill=\"#000000\" stroke=\"#000000\" points=\"411.22,-158.9401 406.3282,-149.5422 404.2917,-159.9394 411.22,-158.9401\"/>\n</g>\n<!-- 9 -->\n<g id=\"node10\" class=\"node\">\n<title>9</title>\n<polygon fill=\"none\" stroke=\"#000000\" points=\"599,-157 468,-157 468,-89 599,-89 599,-157\"/>\n<text text-anchor=\"middle\" x=\"533.5\" y=\"-141.8\" font-family=\"Times,serif\" font-size=\"14.00\" fill=\"#000000\">อากาศ &lt;= 0.5</text>\n<text text-anchor=\"middle\" x=\"533.5\" y=\"-126.8\" font-family=\"Times,serif\" font-size=\"14.00\" fill=\"#000000\">entropy = 1.0</text>\n<text text-anchor=\"middle\" x=\"533.5\" y=\"-111.8\" font-family=\"Times,serif\" font-size=\"14.00\" fill=\"#000000\">samples = 2</text>\n<text text-anchor=\"middle\" x=\"533.5\" y=\"-96.8\" font-family=\"Times,serif\" font-size=\"14.00\" fill=\"#000000\">value = [1, 1]</text>\n</g>\n<!-- 7&#45;&gt;9 -->\n<g id=\"edge9\" class=\"edge\">\n<title>7&#45;&gt;9</title>\n<path fill=\"none\" stroke=\"#000000\" d=\"M455.4827,-192.9465C465.7977,-183.6986 477.0754,-173.5876 487.7699,-163.9994\"/>\n<polygon fill=\"#000000\" stroke=\"#000000\" points=\"490.3226,-166.4115 495.4319,-157.13 485.6498,-161.1995 490.3226,-166.4115\"/>\n</g>\n<!-- 10 -->\n<g id=\"node11\" class=\"node\">\n<title>10</title>\n<polygon fill=\"none\" stroke=\"#000000\" points=\"524,-53 429,-53 429,0 524,0 524,-53\"/>\n<text text-anchor=\"middle\" x=\"476.5\" y=\"-37.8\" font-family=\"Times,serif\" font-size=\"14.00\" fill=\"#000000\">entropy = 0.0</text>\n<text text-anchor=\"middle\" x=\"476.5\" y=\"-22.8\" font-family=\"Times,serif\" font-size=\"14.00\" fill=\"#000000\">samples = 1</text>\n<text text-anchor=\"middle\" x=\"476.5\" y=\"-7.8\" font-family=\"Times,serif\" font-size=\"14.00\" fill=\"#000000\">value = [0, 1]</text>\n</g>\n<!-- 9&#45;&gt;10 -->\n<g id=\"edge10\" class=\"edge\">\n<title>9&#45;&gt;10</title>\n<path fill=\"none\" stroke=\"#000000\" d=\"M513.4039,-88.9777C508.2656,-80.2786 502.727,-70.9018 497.5425,-62.1247\"/>\n<polygon fill=\"#000000\" stroke=\"#000000\" points=\"500.399,-60.0786 492.2996,-53.2485 494.3719,-63.6387 500.399,-60.0786\"/>\n</g>\n<!-- 11 -->\n<g id=\"node12\" class=\"node\">\n<title>11</title>\n<polygon fill=\"none\" stroke=\"#000000\" points=\"637,-53 542,-53 542,0 637,0 637,-53\"/>\n<text text-anchor=\"middle\" x=\"589.5\" y=\"-37.8\" font-family=\"Times,serif\" font-size=\"14.00\" fill=\"#000000\">entropy = 0.0</text>\n<text text-anchor=\"middle\" x=\"589.5\" y=\"-22.8\" font-family=\"Times,serif\" font-size=\"14.00\" fill=\"#000000\">samples = 1</text>\n<text text-anchor=\"middle\" x=\"589.5\" y=\"-7.8\" font-family=\"Times,serif\" font-size=\"14.00\" fill=\"#000000\">value = [1, 0]</text>\n</g>\n<!-- 9&#45;&gt;11 -->\n<g id=\"edge11\" class=\"edge\">\n<title>9&#45;&gt;11</title>\n<path fill=\"none\" stroke=\"#000000\" d=\"M553.2435,-88.9777C558.2917,-80.2786 563.7331,-70.9018 568.8266,-62.1247\"/>\n<polygon fill=\"#000000\" stroke=\"#000000\" points=\"571.9855,-63.6544 573.9776,-53.2485 565.9311,-60.1409 571.9855,-63.6544\"/>\n</g>\n</g>\n</svg>\n"
          },
          "metadata": {},
          "execution_count": 21
        }
      ]
    },
    {
      "cell_type": "markdown",
      "metadata": {
        "id": "7yyW6bggqBYK"
      },
      "source": [
        "1) if อากาศ <= 1.5 and ลม <= 0.5 and ความชื้่น <= 75.0 and อากาศ <= 0.5 then Present = \"ไม่เข้า\"\n",
        "\n",
        "2) if อากาศ <= 1.5 and ลม <= 0.5 and ความชื้่น > 75.0 then Present = \"เข้า\"\n",
        "\n",
        "3)...\n",
        "\n",
        "4)...\n",
        "\n",
        "5)..."
      ]
    },
    {
      "cell_type": "code",
      "metadata": {
        "id": "6wLI8NAFLyJL"
      },
      "source": [],
      "execution_count": null,
      "outputs": []
    },
    {
      "cell_type": "code",
      "metadata": {
        "id": "gnxqF8mTLyJN"
      },
      "source": [
        "def code(column, text):\n",
        "    return [ i for i in range(len(column.cat.categories)) if column.cat.categories[i] == text ][0]\n",
        "\n",
        "\n",
        "#d = [ 'ท้องฟ้าแจ่มใส', 20, 70, 'ไม่มี' ]\n",
        "#print(data.Overlook.cat.categories)\n",
        "#print(data.Wind.cat.categories)\n",
        "#print(data.Present.cat.categories)\n",
        "#print(data.Present.cat.categories.get_value('ไม่เข้า'))\n",
        "\n",
        "def dx(x):\n",
        "    return [ code(data.Overlook, x[0]), x[1], x[2], code(data.Wind, x[3]) ]\n",
        "\n",
        "\n",
        "def เข้าเรียน(x):\n",
        "    d = dx(x)\n",
        "    print(d)\n",
        "    p = tree.predict([ d ])\n",
        "    print(data.Present.cat.categories[p[0]])"
      ],
      "execution_count": null,
      "outputs": []
    },
    {
      "cell_type": "code",
      "metadata": {
        "id": "mFCz4nbKLyJO",
        "colab": {
          "base_uri": "https://localhost:8080/"
        },
        "outputId": "f403ef26-6387-4755-c5c5-3a099c6f8693"
      },
      "source": [
        "#['อากาศ', 'อุณหภูมิ', 'ความชื้น', 'ลม']\n",
        "เข้าเรียน([ 'มืดคลึ้ม', 120, 70, 'ไม่มี' ])"
      ],
      "execution_count": null,
      "outputs": [
        {
          "output_type": "stream",
          "text": [
            "[2, 120, 70, 1]\n",
            "เข้า\n"
          ],
          "name": "stdout"
        }
      ]
    },
    {
      "cell_type": "code",
      "metadata": {
        "id": "9pi_57mNLyJQ",
        "colab": {
          "base_uri": "https://localhost:8080/"
        },
        "outputId": "c1a4abc3-96c4-42b7-9681-42f387f78aa2"
      },
      "source": [
        "เข้าเรียน([ 'ฝนตก', 50, 20, 'ไม่มี' ])"
      ],
      "execution_count": null,
      "outputs": [
        {
          "output_type": "stream",
          "text": [
            "[1, 50, 20, 1]\n",
            "เข้า\n"
          ],
          "name": "stdout"
        }
      ]
    },
    {
      "cell_type": "code",
      "metadata": {
        "id": "maxQfN8ODNd8"
      },
      "source": [
        "from sklearn.model_selection import train_test_split\n",
        "\n",
        "Xtrain, Xtest, ytrain, ytest = train_test_split( X, y, test_size = 0.3, random_state=0)\n",
        "tree = DecisionTreeClassifier(criterion = \"entropy\")\n",
        "tree = tree.fit(Xtrain, ytrain)\n",
        "ypred = tree.predict(Xtest)\n",
        "\n"
      ],
      "execution_count": null,
      "outputs": []
    },
    {
      "cell_type": "markdown",
      "metadata": {
        "id": "RUaKVyZuDNeA"
      },
      "source": [
        "วิเคราะห์ความถูกต้อง"
      ]
    },
    {
      "cell_type": "code",
      "metadata": {
        "id": "EupFxWQvDNeB",
        "colab": {
          "base_uri": "https://localhost:8080/"
        },
        "outputId": "58a21d56-e6e1-4d73-fc7c-9b59172729cb"
      },
      "source": [
        "from sklearn import metrics\n",
        "print(metrics.accuracy_score(ypred, ytest))\n"
      ],
      "execution_count": null,
      "outputs": [
        {
          "output_type": "stream",
          "text": [
            "0.2\n"
          ],
          "name": "stdout"
        }
      ]
    },
    {
      "cell_type": "markdown",
      "metadata": {
        "id": "TbYJeN39DNeH"
      },
      "source": [
        "แสดงผลลัพธ์ด้วย confusion matrix"
      ]
    },
    {
      "cell_type": "code",
      "metadata": {
        "id": "tjdht1a5DNeJ",
        "colab": {
          "base_uri": "https://localhost:8080/",
          "height": 285
        },
        "outputId": "d26251ec-b338-4e4d-c544-ed3600fb7455"
      },
      "source": [
        "from sklearn.metrics import confusion_matrix\n",
        "import matplotlib.pyplot as plt\n",
        "import seaborn as sns; sns.set()\n",
        "\n",
        "mat = confusion_matrix(ytest, ypred)\n",
        "sns.heatmap(mat.T, square=True, annot=True, fmt='d', cbar=False)\n",
        "plt.xlabel('true label')\n",
        "plt.ylabel('predicted label');"
      ],
      "execution_count": null,
      "outputs": [
        {
          "output_type": "display_data",
          "data": {
            "image/png": "[encoded data removed]",
            "text/plain": [
              "<Figure size 432x288 with 1 Axes>"
            ]
          },
          "metadata": {}
        }
      ]
    },
    {
      "cell_type": "code",
      "metadata": {
        "id": "eMIBNQz6QUAc"
      },
      "source": [],
      "execution_count": null,
      "outputs": []
    },
    {
      "cell_type": "code",
      "metadata": {
        "colab": {
          "base_uri": "https://localhost:8080/",
          "height": 229
        },
        "id": "-gmlK-sVQ1ag",
        "outputId": "d9714251-8ba3-4f5b-9dfd-21e38e5b6117"
      },
      "source": [
        "if outlook == \"sunny\" and humidity ==\"high\":\n",
        "  print(\"no\")\n",
        "\n",
        "if outlook == \"sunny\" and humidity ==\"normal\":\n",
        "  print(\"yes\")\n",
        ""
      ],
      "execution_count": null,
      "outputs": [
        {
          "output_type": "error",
          "ename": "NameError",
          "evalue": "ignored",
          "traceback": [
            "\u001b[0;31m---------------------------------------------------------------------------\u001b[0m",
            "\u001b[0;31mNameError\u001b[0m                                 Traceback (most recent call last)",
            "\u001b[0;32m<ipython-input-28-0f737a722a83>\u001b[0m in \u001b[0;36m<module>\u001b[0;34m()\u001b[0m\n\u001b[0;32m----> 1\u001b[0;31m \u001b[0;32mif\u001b[0m \u001b[0moutlook\u001b[0m \u001b[0;34m==\u001b[0m \u001b[0;34m\"sunny\"\u001b[0m \u001b[0;32mand\u001b[0m \u001b[0mhumidity\u001b[0m \u001b[0;34m==\u001b[0m\u001b[0;34m\"high\"\u001b[0m\u001b[0;34m:\u001b[0m\u001b[0;34m\u001b[0m\u001b[0;34m\u001b[0m\u001b[0m\n\u001b[0m\u001b[1;32m      2\u001b[0m   \u001b[0mprint\u001b[0m\u001b[0;34m(\u001b[0m\u001b[0;34m\"no\"\u001b[0m\u001b[0;34m)\u001b[0m\u001b[0;34m\u001b[0m\u001b[0;34m\u001b[0m\u001b[0m\n\u001b[1;32m      3\u001b[0m \u001b[0;34m\u001b[0m\u001b[0m\n\u001b[1;32m      4\u001b[0m \u001b[0;32mif\u001b[0m \u001b[0moutlook\u001b[0m \u001b[0;34m==\u001b[0m \u001b[0;34m\"sunny\"\u001b[0m \u001b[0;32mand\u001b[0m \u001b[0mhumidity\u001b[0m \u001b[0;34m==\u001b[0m\u001b[0;34m\"normal\"\u001b[0m\u001b[0;34m:\u001b[0m\u001b[0;34m\u001b[0m\u001b[0;34m\u001b[0m\u001b[0m\n\u001b[1;32m      5\u001b[0m   \u001b[0mprint\u001b[0m\u001b[0;34m(\u001b[0m\u001b[0;34m\"yes\"\u001b[0m\u001b[0;34m)\u001b[0m\u001b[0;34m\u001b[0m\u001b[0;34m\u001b[0m\u001b[0m\n",
            "\u001b[0;31mNameError\u001b[0m: name 'outlook' is not defined"
          ]
        }
      ]
    }
  ]
}